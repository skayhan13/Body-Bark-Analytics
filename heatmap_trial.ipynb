{
 "cells": [
  {
   "cell_type": "code",
   "execution_count": 1,
   "metadata": {
    "scrolled": false
   },
   "outputs": [
    {
     "data": {
      "text/html": [
       "<div>\n",
       "<style scoped>\n",
       "    .dataframe tbody tr th:only-of-type {\n",
       "        vertical-align: middle;\n",
       "    }\n",
       "\n",
       "    .dataframe tbody tr th {\n",
       "        vertical-align: top;\n",
       "    }\n",
       "\n",
       "    .dataframe thead th {\n",
       "        text-align: right;\n",
       "    }\n",
       "</style>\n",
       "<table border=\"1\" class=\"dataframe\">\n",
       "  <thead>\n",
       "    <tr style=\"text-align: right;\">\n",
       "      <th></th>\n",
       "      <th>Unnamed: 0</th>\n",
       "      <th>zip</th>\n",
       "      <th>num</th>\n",
       "      <th>lat</th>\n",
       "      <th>lng</th>\n",
       "    </tr>\n",
       "  </thead>\n",
       "  <tbody>\n",
       "    <tr>\n",
       "      <th>0</th>\n",
       "      <td>0</td>\n",
       "      <td>80112</td>\n",
       "      <td>2</td>\n",
       "      <td>39.57258</td>\n",
       "      <td>-104.85740</td>\n",
       "    </tr>\n",
       "    <tr>\n",
       "      <th>1</th>\n",
       "      <td>1</td>\n",
       "      <td>12771</td>\n",
       "      <td>2</td>\n",
       "      <td>41.37440</td>\n",
       "      <td>-74.62464</td>\n",
       "    </tr>\n",
       "    <tr>\n",
       "      <th>2</th>\n",
       "      <td>2</td>\n",
       "      <td>18938</td>\n",
       "      <td>2</td>\n",
       "      <td>40.35238</td>\n",
       "      <td>-74.99750</td>\n",
       "    </tr>\n",
       "    <tr>\n",
       "      <th>3</th>\n",
       "      <td>3</td>\n",
       "      <td>80205</td>\n",
       "      <td>8</td>\n",
       "      <td>39.75866</td>\n",
       "      <td>-104.96339</td>\n",
       "    </tr>\n",
       "    <tr>\n",
       "      <th>4</th>\n",
       "      <td>4</td>\n",
       "      <td>53705</td>\n",
       "      <td>4</td>\n",
       "      <td>43.07364</td>\n",
       "      <td>-89.46339</td>\n",
       "    </tr>\n",
       "    <tr>\n",
       "      <th>...</th>\n",
       "      <td>...</td>\n",
       "      <td>...</td>\n",
       "      <td>...</td>\n",
       "      <td>...</td>\n",
       "      <td>...</td>\n",
       "    </tr>\n",
       "    <tr>\n",
       "      <th>814</th>\n",
       "      <td>814</td>\n",
       "      <td>60030</td>\n",
       "      <td>16</td>\n",
       "      <td>42.33666</td>\n",
       "      <td>-88.04459</td>\n",
       "    </tr>\n",
       "    <tr>\n",
       "      <th>815</th>\n",
       "      <td>815</td>\n",
       "      <td>80113</td>\n",
       "      <td>9</td>\n",
       "      <td>39.64216</td>\n",
       "      <td>-104.96251</td>\n",
       "    </tr>\n",
       "    <tr>\n",
       "      <th>816</th>\n",
       "      <td>816</td>\n",
       "      <td>80421</td>\n",
       "      <td>1</td>\n",
       "      <td>39.47872</td>\n",
       "      <td>-105.52618</td>\n",
       "    </tr>\n",
       "    <tr>\n",
       "      <th>817</th>\n",
       "      <td>817</td>\n",
       "      <td>96816</td>\n",
       "      <td>6</td>\n",
       "      <td>21.29278</td>\n",
       "      <td>-157.79071</td>\n",
       "    </tr>\n",
       "    <tr>\n",
       "      <th>818</th>\n",
       "      <td>818</td>\n",
       "      <td>73120</td>\n",
       "      <td>3</td>\n",
       "      <td>35.58047</td>\n",
       "      <td>-97.57223</td>\n",
       "    </tr>\n",
       "  </tbody>\n",
       "</table>\n",
       "<p>819 rows × 5 columns</p>\n",
       "</div>"
      ],
      "text/plain": [
       "     Unnamed: 0    zip  num       lat        lng\n",
       "0             0  80112    2  39.57258 -104.85740\n",
       "1             1  12771    2  41.37440  -74.62464\n",
       "2             2  18938    2  40.35238  -74.99750\n",
       "3             3  80205    8  39.75866 -104.96339\n",
       "4             4  53705    4  43.07364  -89.46339\n",
       "..          ...    ...  ...       ...        ...\n",
       "814         814  60030   16  42.33666  -88.04459\n",
       "815         815  80113    9  39.64216 -104.96251\n",
       "816         816  80421    1  39.47872 -105.52618\n",
       "817         817  96816    6  21.29278 -157.79071\n",
       "818         818  73120    3  35.58047  -97.57223\n",
       "\n",
       "[819 rows x 5 columns]"
      ]
     },
     "execution_count": 1,
     "metadata": {},
     "output_type": "execute_result"
    }
   ],
   "source": [
    "import pandas as pd\n",
    "#import os\n",
    "import gmaps\n",
    "import gmaps.datasets\n",
    "import numpy as np\n",
    "from config import api_key\n",
    "\n",
    "#file_path=os.path.join('zipsgood.csv')\n",
    "#file_path=('zipsgood.csv')\n",
    "df=pd.read_csv('zipsgood.csv')\n",
    "df"
   ]
  },
  {
   "cell_type": "code",
   "execution_count": 2,
   "metadata": {},
   "outputs": [],
   "source": [
    "df=df.dropna()"
   ]
  },
  {
   "cell_type": "code",
   "execution_count": 3,
   "metadata": {},
   "outputs": [
    {
     "data": {
      "text/plain": [
       "87"
      ]
     },
     "execution_count": 3,
     "metadata": {},
     "output_type": "execute_result"
    }
   ],
   "source": [
    "df.loc[:,'num'].max()"
   ]
  },
  {
   "cell_type": "code",
   "execution_count": 4,
   "metadata": {},
   "outputs": [],
   "source": [
    "total_salenum=df.loc[:,'num']\n",
    "locations=df[[\"lat\",\"lng\"]].astype(float)"
   ]
  },
  {
   "cell_type": "code",
   "execution_count": 5,
   "metadata": {},
   "outputs": [
    {
     "data": {
      "application/vnd.jupyter.widget-view+json": {
       "model_id": "13e904f2942946f5a201a04731304c08",
       "version_major": 2,
       "version_minor": 0
      },
      "text/plain": [
       "Figure(layout=FigureLayout(height='420px'))"
      ]
     },
     "metadata": {},
     "output_type": "display_data"
    }
   ],
   "source": [
    "gmaps.configure(api_key)\n",
    "m=gmaps.figure()\n",
    "heat_layer=gmaps.heatmap_layer(locations[[\"lat\",\"lng\"]], weights=total_salenum, dissipating=False, max_intensity=88, point_radius=1.5)\n",
    "m.add_layer(heat_layer)\n",
    "m"
   ]
  },
  {
   "cell_type": "code",
   "execution_count": null,
   "metadata": {},
   "outputs": [],
   "source": []
  }
 ],
 "metadata": {
  "kernelspec": {
   "display_name": "Python 3",
   "language": "python",
   "name": "python3"
  },
  "language_info": {
   "codemirror_mode": {
    "name": "ipython",
    "version": 3
   },
   "file_extension": ".py",
   "mimetype": "text/x-python",
   "name": "python",
   "nbconvert_exporter": "python",
   "pygments_lexer": "ipython3",
   "version": "3.8.3"
  }
 },
 "nbformat": 4,
 "nbformat_minor": 4
}
